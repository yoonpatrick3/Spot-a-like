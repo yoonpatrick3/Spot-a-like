{
 "cells": [
  {
   "cell_type": "code",
   "execution_count": 1,
   "metadata": {},
   "outputs": [],
   "source": [
    "import numpy as np"
   ]
  },
  {
   "cell_type": "code",
   "execution_count": null,
   "metadata": {},
   "outputs": [],
   "source": [
    "#features:\n",
    "'''\n",
    "acousticness,  danceability, duration_ms*, energy, instrumentalness, key*, liveness, loudness, mode, speechiness, tempo*,  \n",
    "time_signature*, valence\n",
    "'''\n",
    "#https://developer.spotify.com/documentation/web-api/reference/#endpoint-get-audio-features\n",
    "def residual_square_sum(song1, song2):\n",
    "    list_of_features = [scaled_squared_difference(song1.acousticness, song2.acousticness),\n",
    "                       scaled_squared_difference(song1.danceability, song2.danceability),\n",
    "                       scaled_squared_difference(song1.duration_ms, song2.duration_ms),\n",
    "                       scaled_squared_difference(song1.energy, song2.energy),\n",
    "                       scaled_squared_difference(song1.instrumentalness, song2.instrumentalness),\n",
    "                       scaled_squared_difference_circular(song1.key, song2.key),\n",
    "                       scaled_squared_difference(song1.liveness, song2.liveness),\n",
    "                       scaled_squared_difference(song1.mode, song2.mode),\n",
    "                       scaled_squared_difference(song1.speechiness, song2.speechiness),\n",
    "                       scaled_squared_difference(song1.tempo, song2.tempo),\n",
    "                       scaled_squared_difference(song1.time_signature, song2.time_signature),\n",
    "                       scaled_squared_difference(song1.valence, song2.valence)]"
   ]
  },
  {
   "cell_type": "code",
   "execution_count": 14,
   "metadata": {},
   "outputs": [],
   "source": [
    "def scaled_squared_difference(num1, num2):\n",
    "    maxnum = max(num1, num2)\n",
    "    return (num1-num2 / maxnum) ** 2\n",
    "\n",
    "def scaled_squared_difference_circular(num1, num2, circular_array):\n",
    "    "
   ]
  },
  {
   "cell_type": "code",
   "execution_count": 12,
   "metadata": {},
   "outputs": [
    {
     "data": {
      "text/plain": [
       "3"
      ]
     },
     "execution_count": 12,
     "metadata": {},
     "output_type": "execute_result"
    }
   ],
   "source": [
    "def find_circular_diff(num1, num2, circular_array):\n",
    "    \n",
    "    if num2 >= num1:\n",
    "        p1 = num1\n",
    "        p2 = num2\n",
    "    else:\n",
    "        p1 = num2\n",
    "        p2 = num1\n",
    "    \n",
    "    dist1 = p2 - p1\n",
    "    dist2 = p1 + len(circular_array) - p2 \n",
    "\n",
    "    return min(dist1,dist2)\n",
    "\n",
    "\n",
    "find_circular_diff(11, 2, range(12))"
   ]
  },
  {
   "cell_type": "code",
   "execution_count": null,
   "metadata": {},
   "outputs": [],
   "source": []
  }
 ],
 "metadata": {
  "kernelspec": {
   "display_name": "Python 3",
   "language": "python",
   "name": "python3"
  },
  "language_info": {
   "codemirror_mode": {
    "name": "ipython",
    "version": 3
   },
   "file_extension": ".py",
   "mimetype": "text/x-python",
   "name": "python",
   "nbconvert_exporter": "python",
   "pygments_lexer": "ipython3",
   "version": "3.9.0"
  }
 },
 "nbformat": 4,
 "nbformat_minor": 4
}
