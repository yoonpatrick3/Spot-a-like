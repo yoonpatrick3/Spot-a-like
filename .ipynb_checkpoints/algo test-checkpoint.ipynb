{
 "cells": [
  {
   "cell_type": "code",
   "execution_count": 1,
   "metadata": {},
   "outputs": [],
   "source": [
    "import numpy as np"
   ]
  },
  {
   "cell_type": "code",
   "execution_count": 27,
   "metadata": {},
   "outputs": [],
   "source": [
    "#features:\n",
    "'''\n",
    "acousticness,  danceability, duration_ms*, energy, instrumentalness, key*, liveness, loudness, mode, speechiness, tempo*,  \n",
    "time_signature*, valence\n",
    "'''\n",
    "#https://developer.spotify.com/documentation/web-api/reference/#endpoint-get-audio-features\n",
    "def residual_square_sum(song1, song2):\n",
    "    list_of_features = [scaled_squared_difference(song1.acousticness, song2.acousticness),\n",
    "                       scaled_squared_difference(song1.danceability, song2.danceability),\n",
    "                       scaled_squared_difference(song1.duration_ms, song2.duration_ms),\n",
    "                       scaled_squared_difference(song1.energy, song2.energy),\n",
    "                       scaled_squared_difference(song1.instrumentalness, song2.instrumentalness),\n",
    "                       scaled_squared_difference_circular(song1.key, song2.key, range(12)),\n",
    "                       scaled_squared_difference(song1.liveness, song2.liveness),\n",
    "                       scaled_squared_difference(song1.mode, song2.mode),\n",
    "                       scaled_squared_difference(song1.speechiness, song2.speechiness),\n",
    "                       scaled_squared_difference(song1.tempo, song2.tempo),\n",
    "                       scaled_squared_difference(song1.time_signature, song2.time_signature),\n",
    "                       scaled_squared_difference(song1.valence, song2.valence)]\n",
    "    return np.sum(list_of_features)\n",
    "    "
   ]
  },
  {
   "cell_type": "code",
   "execution_count": 25,
   "metadata": {},
   "outputs": [
    {
     "name": "stdout",
     "output_type": "stream",
     "text": [
      "1\n"
     ]
    },
    {
     "data": {
      "text/plain": [
       "0.027777777777777776"
      ]
     },
     "execution_count": 25,
     "metadata": {},
     "output_type": "execute_result"
    }
   ],
   "source": [
    "def scaled_squared_difference(num1, num2):\n",
    "    maxnum = max(abs(num1), abs(num2))\n",
    "    return (num1-num2 / maxnum) ** 2\n",
    "\n",
    "def scaled_squared_difference_circular(num1, num2, circular_array):\n",
    "    print(find_circular_diff(num1, num2, circular_array))\n",
    "    return (find_circular_diff(num1, num2, circular_array) / 6) **2"
   ]
  },
  {
   "cell_type": "code",
   "execution_count": 23,
   "metadata": {},
   "outputs": [
    {
     "data": {
      "text/plain": [
       "1"
      ]
     },
     "execution_count": 23,
     "metadata": {},
     "output_type": "execute_result"
    }
   ],
   "source": [
    "def find_circular_diff(num1, num2, circular_array):\n",
    "    \n",
    "    if num2 >= num1:\n",
    "        p1 = num1\n",
    "        p2 = num2\n",
    "    else:\n",
    "        p1 = num2\n",
    "        p2 = num1\n",
    "    \n",
    "    dist1 = p2 - p1\n",
    "    dist2 = p1 + len(circular_array) - p2 \n",
    "\n",
    "    return min(dist1,dist2)\n",
    "\n",
    "\n",
    "find_circular_diff(0, 11, range(12))"
   ]
  },
  {
   "cell_type": "code",
   "execution_count": 71,
   "metadata": {},
   "outputs": [
    {
     "name": "stdout",
     "output_type": "stream",
     "text": [
      "[10  9  6  4] [-2  0  0  3]\n"
     ]
    },
    {
     "data": {
      "text/plain": [
       "array(['k', 'j', 'g', 'e'], dtype='<U1')"
      ]
     },
     "execution_count": 71,
     "metadata": {},
     "output_type": "execute_result"
    }
   ],
   "source": [
    "lst = [\"a\", \"b\", \"c\", \"d\", \"e\", \"f\", \"g\", \"h\", \"i\", \"j\", \"k\", \"l\"]\n",
    "npar2 = np.array(lst)\n",
    "\n",
    "npar = np.array([9, 4, 4, 3, 3, 9, 0, 4, 6, 0, -2])\n",
    "n_lowest = np.argpartition(npar, 4)[:4]\n",
    "print(n_lowest, npar[n_lowest])\n",
    "x = n_lowest[np.argsort(npar[n_lowest])]\n",
    "\n",
    "npar2[x]"
   ]
  },
  {
   "cell_type": "code",
   "execution_count": 2,
   "metadata": {},
   "outputs": [
    {
     "name": "stdout",
     "output_type": "stream",
     "text": [
      "0.0\n",
      "0.2\n",
      "0.4\n",
      "0.6\n",
      "0.8\n",
      "1.0\n"
     ]
    }
   ],
   "source": [
    "import requests\n",
    "\n",
    "client_id = '4e2ba88cc79247a8acc4160d1510764f'\n",
    "client_secret ='1698c2d495ed4d6fba3967974ced8423'\n",
    "\n",
    "AUTH_URL = 'https://accounts.spotify.com/api/token'\n",
    "\n",
    "auth_response = requests.post(AUTH_URL, {\n",
    "    'grant_type': 'client_credentials',\n",
    "    'client_id': client_id,\n",
    "    'client_secret': client_secret,\n",
    "})\n",
    " # convert the response to JSON\n",
    "auth_response_data = auth_response.json()\n",
    "# save the access token\n",
    "access_token = auth_response_data['access_token']\n",
    "\n",
    "# populating the database with a playlist of the most popular songs\n",
    "url = 'https://api.spotify.com/v1/playlists/'\n",
    "playlist_id = '2YRe7HRKNRvXdJBp9nXFza' # 500 most popular Spotify songs\n",
    "# playlist_id = '37i9dQZEVXbLRQDuF5jeBp' # Top 50 in US\n",
    "queryparam = '?offset='\n",
    "offset = 0\n",
    "head = {'Authorization': 'Bearer ' + access_token}\n",
    "\n",
    "list_of_tracks = []\n",
    "\n",
    "while offset < 600:\n",
    "    song_json = requests.get(url + playlist_id + '/tracks' + queryparam + str(offset), headers=head)\n",
    "    print(.2 * offset/100)\n",
    "    list_of_tracks += song_json.json().get('items')\n",
    "    offset += 100"
   ]
  },
  {
   "cell_type": "code",
   "execution_count": null,
   "metadata": {},
   "outputs": [
    {
     "name": "stdout",
     "output_type": "stream",
     "text": [
      "<Response [200]>\n",
      "<Response [200]>\n",
      "<Response [200]>\n",
      "<Response [200]>\n",
      "<Response [200]>\n",
      "<Response [200]>\n",
      "<Response [200]>\n",
      "<Response [200]>\n",
      "<Response [200]>\n",
      "<Response [200]>\n",
      "<Response [200]>\n",
      "<Response [200]>\n",
      "<Response [200]>\n",
      "<Response [200]>\n",
      "<Response [200]>\n",
      "<Response [200]>\n",
      "<Response [200]>\n",
      "<Response [200]>\n",
      "<Response [200]>\n",
      "<Response [200]>\n",
      "<Response [200]>\n",
      "<Response [200]>\n",
      "<Response [200]>\n",
      "<Response [200]>\n",
      "<Response [200]>\n",
      "<Response [200]>\n",
      "<Response [200]>\n",
      "<Response [200]>\n",
      "<Response [200]>\n",
      "<Response [200]>\n",
      "<Response [200]>\n",
      "<Response [200]>\n",
      "<Response [200]>\n",
      "<Response [200]>\n",
      "<Response [200]>\n",
      "<Response [200]>\n",
      "<Response [200]>\n",
      "<Response [200]>\n",
      "<Response [200]>\n",
      "<Response [200]>\n",
      "<Response [200]>\n",
      "<Response [200]>\n",
      "<Response [200]>\n",
      "<Response [200]>\n",
      "<Response [200]>\n",
      "<Response [200]>\n",
      "<Response [200]>\n",
      "<Response [200]>\n",
      "<Response [200]>\n",
      "<Response [200]>\n",
      "<Response [200]>\n",
      "<Response [200]>\n",
      "<Response [200]>\n",
      "<Response [200]>\n",
      "<Response [200]>\n",
      "<Response [200]>\n",
      "<Response [200]>\n",
      "<Response [200]>\n",
      "<Response [200]>\n",
      "<Response [200]>\n",
      "<Response [200]>\n",
      "<Response [200]>\n",
      "<Response [200]>\n",
      "<Response [200]>\n",
      "<Response [200]>\n",
      "<Response [200]>\n"
     ]
    }
   ],
   "source": [
    "audio_url = 'https://api.spotify.com/v1/audio-features/'\n",
    "list_of_songs = []\n",
    "import time\n",
    "for t in list_of_tracks:\n",
    "    \n",
    "    track = t.get('track')\n",
    "    album = track.get('album')\n",
    "\n",
    "    track_name = track.get('name')\n",
    "    track_id = track.get('id')\n",
    "    img_link = album.get('images')[0].get('url')\n",
    "    track_album = album.get('name')\n",
    "    artist_id = album.get('artists')[0].get('id')\n",
    "    artist_name = album.get('artists')[0].get('name')\n",
    "\n",
    "    # set the audio features of this song\n",
    "    song_dict = {}\n",
    "    song_dict['id'] = track_id\n",
    "    song_dict['title'] = track_name\n",
    "    song_dict['artist_id'] = artist_id\n",
    "    song_dict['artist_name'] = artist_name\n",
    "    song_dict['img_link'] = img_link\n",
    "    song_dict['album'] = track_album\n",
    "    audio_features = requests.get(audio_url + track_id, headers=head)\n",
    "    print(audio_features.json())\n",
    "    song_dict.update(audio_features.json())\n",
    "    song = song_dict\n",
    "\n",
    "    # song = Song(track_id, track_name, artist_id, artist_name, img_link, track_album)\n",
    "    # audio_features = requests.get(audio_url + track_id, headers=head)\n",
    "    # song.set_audio_features(audio_features.json())\n",
    "\n",
    "    list_of_songs.append(song)"
   ]
  },
  {
   "cell_type": "code",
   "execution_count": null,
   "metadata": {},
   "outputs": [],
   "source": []
  }
 ],
 "metadata": {
  "kernelspec": {
   "display_name": "Python 3",
   "language": "python",
   "name": "python3"
  },
  "language_info": {
   "codemirror_mode": {
    "name": "ipython",
    "version": 3
   },
   "file_extension": ".py",
   "mimetype": "text/x-python",
   "name": "python",
   "nbconvert_exporter": "python",
   "pygments_lexer": "ipython3",
   "version": "3.9.0"
  }
 },
 "nbformat": 4,
 "nbformat_minor": 4
}
