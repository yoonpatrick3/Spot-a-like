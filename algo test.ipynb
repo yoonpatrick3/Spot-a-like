{
 "cells": [
  {
   "cell_type": "code",
   "execution_count": 1,
   "metadata": {},
   "outputs": [],
   "source": [
    "import numpy as np"
   ]
  },
  {
   "cell_type": "code",
   "execution_count": 27,
   "metadata": {},
   "outputs": [],
   "source": [
    "#features:\n",
    "'''\n",
    "acousticness,  danceability, duration_ms*, energy, instrumentalness, key*, liveness, loudness, mode, speechiness, tempo*,  \n",
    "time_signature*, valence\n",
    "'''\n",
    "#https://developer.spotify.com/documentation/web-api/reference/#endpoint-get-audio-features\n",
    "def residual_square_sum(song1, song2):\n",
    "    list_of_features = [scaled_squared_difference(song1.acousticness, song2.acousticness),\n",
    "                       scaled_squared_difference(song1.danceability, song2.danceability),\n",
    "                       scaled_squared_difference(song1.duration_ms, song2.duration_ms),\n",
    "                       scaled_squared_difference(song1.energy, song2.energy),\n",
    "                       scaled_squared_difference(song1.instrumentalness, song2.instrumentalness),\n",
    "                       scaled_squared_difference_circular(song1.key, song2.key, range(12)),\n",
    "                       scaled_squared_difference(song1.liveness, song2.liveness),\n",
    "                       scaled_squared_difference(song1.mode, song2.mode),\n",
    "                       scaled_squared_difference(song1.speechiness, song2.speechiness),\n",
    "                       scaled_squared_difference(song1.tempo, song2.tempo),\n",
    "                       scaled_squared_difference(song1.time_signature, song2.time_signature),\n",
    "                       scaled_squared_difference(song1.valence, song2.valence)]\n",
    "    return np.sum(list_of_features)\n",
    "    "
   ]
  },
  {
   "cell_type": "code",
   "execution_count": 25,
   "metadata": {},
   "outputs": [
    {
     "name": "stdout",
     "output_type": "stream",
     "text": [
      "1\n"
     ]
    },
    {
     "data": {
      "text/plain": [
       "0.027777777777777776"
      ]
     },
     "execution_count": 25,
     "metadata": {},
     "output_type": "execute_result"
    }
   ],
   "source": [
    "def scaled_squared_difference(num1, num2):\n",
    "    maxnum = max(abs(num1), abs(num2))\n",
    "    return (num1-num2 / maxnum) ** 2\n",
    "\n",
    "def scaled_squared_difference_circular(num1, num2, circular_array):\n",
    "    print(find_circular_diff(num1, num2, circular_array))\n",
    "    return (find_circular_diff(num1, num2, circular_array) / 6) **2"
   ]
  },
  {
   "cell_type": "code",
   "execution_count": 23,
   "metadata": {},
   "outputs": [
    {
     "data": {
      "text/plain": [
       "1"
      ]
     },
     "execution_count": 23,
     "metadata": {},
     "output_type": "execute_result"
    }
   ],
   "source": [
    "def find_circular_diff(num1, num2, circular_array):\n",
    "    \n",
    "    if num2 >= num1:\n",
    "        p1 = num1\n",
    "        p2 = num2\n",
    "    else:\n",
    "        p1 = num2\n",
    "        p2 = num1\n",
    "    \n",
    "    dist1 = p2 - p1\n",
    "    dist2 = p1 + len(circular_array) - p2 \n",
    "\n",
    "    return min(dist1,dist2)\n",
    "\n",
    "\n",
    "find_circular_diff(0, 11, range(12))"
   ]
  },
  {
   "cell_type": "code",
   "execution_count": 71,
   "metadata": {},
   "outputs": [
    {
     "name": "stdout",
     "output_type": "stream",
     "text": [
      "[10  9  6  4] [-2  0  0  3]\n"
     ]
    },
    {
     "data": {
      "text/plain": [
       "array(['k', 'j', 'g', 'e'], dtype='<U1')"
      ]
     },
     "execution_count": 71,
     "metadata": {},
     "output_type": "execute_result"
    }
   ],
   "source": [
    "lst = [\"a\", \"b\", \"c\", \"d\", \"e\", \"f\", \"g\", \"h\", \"i\", \"j\", \"k\", \"l\"]\n",
    "npar2 = np.array(lst)\n",
    "\n",
    "npar = np.array([9, 4, 4, 3, 3, 9, 0, 4, 6, 0, -2])\n",
    "n_lowest = np.argpartition(npar, 4)[:4]\n",
    "print(n_lowest, npar[n_lowest])\n",
    "x = n_lowest[np.argsort(npar[n_lowest])]\n",
    "\n",
    "npar2[x]"
   ]
  }
 ],
 "metadata": {
  "kernelspec": {
   "display_name": "Python 3",
   "language": "python",
   "name": "python3"
  },
  "language_info": {
   "codemirror_mode": {
    "name": "ipython",
    "version": 3
   },
   "file_extension": ".py",
   "mimetype": "text/x-python",
   "name": "python",
   "nbconvert_exporter": "python",
   "pygments_lexer": "ipython3",
   "version": "3.9.0"
  }
 },
 "nbformat": 4,
 "nbformat_minor": 4
}
